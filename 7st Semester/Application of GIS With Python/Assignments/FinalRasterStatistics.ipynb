{
 "cells": [
  {
   "cell_type": "markdown",
   "metadata": {},
   "source": [
    "#### Importing All Libraries"
   ]
  },
  {
   "cell_type": "code",
   "execution_count": 29,
   "metadata": {},
   "outputs": [],
   "source": [
    "from osgeo import gdal\n",
    "import numpy as np\n",
    "import matplotlib.pyplot as plt\n",
    "import os"
   ]
  },
  {
   "cell_type": "markdown",
   "metadata": {},
   "source": [
    "#### Changing Current Directory"
   ]
  },
  {
   "cell_type": "code",
   "execution_count": 30,
   "metadata": {},
   "outputs": [],
   "source": [
    "os.chdir(r'D:\\Course\\Python Assignments\\Geospatial Analysis using Python')"
   ]
  },
  {
   "cell_type": "markdown",
   "metadata": {},
   "source": [
    "#### Getting Statistics of Raster Data 'aresh.tif'"
   ]
  },
  {
   "cell_type": "code",
   "execution_count": 31,
   "metadata": {},
   "outputs": [
    {
     "name": "stdout",
     "output_type": "stream",
     "text": [
      "Data Source:\t <osgeo.gdal.Dataset; proxy of <Swig Object of type 'GDALDatasetShadow *' at 0x0000019EB0467E70> >\n",
      "Raster Count:\t 1\n",
      "Raster Band:\t <osgeo.gdal.Band; proxy of <Swig Object of type 'GDALRasterBandShadow *' at 0x0000019EB0472ED0> >\n",
      "Statistics of Raster Data aresh.tif. \n",
      " {'Band: 1': 'Minimum = 178.000, Maximum=5789.000, Mean=1947.916, \\n    Standard Deviation=1009.698'}\n"
     ]
    }
   ],
   "source": [
    "dataset_source = gdal.Open('aresh.tif', 0)\n",
    "print('Data Source:\\t', dataset_source)\n",
    "count = dataset_source.RasterCount\n",
    "print(\"Raster Count:\\t\", count)\n",
    "raster_band = dataset_source.GetRasterBand(1)\n",
    "print(\"Raster Band:\\t\",raster_band)\n",
    "response = {}  # For starage of data\n",
    "for counter in range(1, count + 1):\n",
    "    statistics = dataset_source.GetRasterBand(counter).GetStatistics(0, 1)\n",
    "    response[\"Band: {}\".format(counter)] = '''Minimum = %.3f, Maximum=%.3f, Mean=%.3f, \n",
    "    Standard Deviation=%.3f''' % (statistics[0], statistics[1], statistics[2], statistics[3])\n",
    "print(\"Statistics of Raster Data aresh.tif. \\n\", response)"
   ]
  },
  {
   "cell_type": "markdown",
   "metadata": {},
   "source": [
    "#### --- For More Information"
   ]
  },
  {
   "cell_type": "markdown",
   "metadata": {},
   "source": [
    "##### Reading Other Data"
   ]
  },
  {
   "cell_type": "code",
   "execution_count": 32,
   "metadata": {},
   "outputs": [
    {
     "name": "stdout",
     "output_type": "stream",
     "text": [
      "GeoTransform: \n"
     ]
    },
    {
     "data": {
      "text/plain": [
       "(81.99986111111112,\n",
       " 0.0002777777777777778,\n",
       " 0.0,\n",
       " 29.00013888888889,\n",
       " 0.0,\n",
       " -0.0002777777777777778)"
      ]
     },
     "execution_count": 32,
     "metadata": {},
     "output_type": "execute_result"
    }
   ],
   "source": [
    "geo_transform = dataset_source.GetGeoTransform()\n",
    "print('GeoTransform: ')\n",
    "geo_transform   # Gives the Origin of Raster Data"
   ]
  },
  {
   "cell_type": "code",
   "execution_count": 33,
   "metadata": {},
   "outputs": [
    {
     "name": "stdout",
     "output_type": "stream",
     "text": [
      "Metadata: \n",
      " {'AREA_OR_POINT': 'Point', 'DTED_CompilationDate': '0002', 'DTED_DataEdition': '02', 'DTED_DigitizingSystem': 'SRTM      ', 'DTED_HorizontalAccuracy': '0009', 'DTED_HorizontalDatum': 'WGS84', 'DTED_MaintenanceDate': '0000', 'DTED_MaintenanceDescription': '0000', 'DTED_MatchMergeDate': '0000', 'DTED_MatchMergeVersion': 'A', 'DTED_NimaDesignator': 'DTED2', 'DTED_OriginLatitude': '0280000N', 'DTED_OriginLongitude': '0820000E', 'DTED_Producer': 'USCNIMA ', 'DTED_RelHorizontalAccuracy': 'NA  ', 'DTED_RelVerticalAccuracy': '0018', 'DTED_SecurityCode_DSI': 'U', 'DTED_SecurityCode_UHL': 'U  ', 'DTED_UniqueRef_DSI': 'H09 054        ', 'DTED_UniqueRef_UHL': 'H09 054     ', 'DTED_VerticalAccuracy_ACC': '0013', 'DTED_VerticalAccuracy_UHL': '0013', 'DTED_VerticalDatum': 'E96'}\n"
     ]
    }
   ],
   "source": [
    "print(\"Metadata: \\n\", dataset_source.GetMetadata())"
   ]
  },
  {
   "cell_type": "markdown",
   "metadata": {},
   "source": [
    "### For All in One Statistics of Raster Data"
   ]
  },
  {
   "cell_type": "code",
   "execution_count": 34,
   "metadata": {},
   "outputs": [
    {
     "name": "stdout",
     "output_type": "stream",
     "text": [
      "Driver: GTiff/GeoTIFF\n",
      "Files: aresh.tif\n",
      "       aresh.tif.ovr\n",
      "       aresh.tif.aux.xml\n",
      "Size is 3601, 3601\n",
      "Coordinate System is:\n",
      "GEOGCRS[\"WGS 84\",\n",
      "    DATUM[\"World Geodetic System 1984\",\n",
      "        ELLIPSOID[\"WGS 84\",6378137,298.257223563,\n",
      "            LENGTHUNIT[\"metre\",1]]],\n",
      "    PRIMEM[\"Greenwich\",0,\n",
      "        ANGLEUNIT[\"degree\",0.0174532925199433]],\n",
      "    CS[ellipsoidal,2],\n",
      "        AXIS[\"geodetic latitude (Lat)\",north,\n",
      "            ORDER[1],\n",
      "            ANGLEUNIT[\"degree\",0.0174532925199433]],\n",
      "        AXIS[\"geodetic longitude (Lon)\",east,\n",
      "            ORDER[2],\n",
      "            ANGLEUNIT[\"degree\",0.0174532925199433]],\n",
      "    ID[\"EPSG\",4326]]\n",
      "Data axis to CRS axis mapping: 2,1\n",
      "Origin = (81.999861111111116,29.000138888888891)\n",
      "Pixel Size = (0.000277777777778,-0.000277777777778)\n",
      "Metadata:\n",
      "  AREA_OR_POINT=Point\n",
      "  DTED_CompilationDate=0002\n",
      "  DTED_DataEdition=02\n",
      "  DTED_DigitizingSystem=SRTM      \n",
      "  DTED_HorizontalAccuracy=0009\n",
      "  DTED_HorizontalDatum=WGS84\n",
      "  DTED_MaintenanceDate=0000\n",
      "  DTED_MaintenanceDescription=0000\n",
      "  DTED_MatchMergeDate=0000\n",
      "  DTED_MatchMergeVersion=A\n",
      "  DTED_NimaDesignator=DTED2\n",
      "  DTED_OriginLatitude=0280000N\n",
      "  DTED_OriginLongitude=0820000E\n",
      "  DTED_Producer=USCNIMA \n",
      "  DTED_RelHorizontalAccuracy=NA  \n",
      "  DTED_RelVerticalAccuracy=0018\n",
      "  DTED_SecurityCode_DSI=U\n",
      "  DTED_SecurityCode_UHL=U  \n",
      "  DTED_UniqueRef_DSI=H09 054        \n",
      "  DTED_UniqueRef_UHL=H09 054     \n",
      "  DTED_VerticalAccuracy_ACC=0013\n",
      "  DTED_VerticalAccuracy_UHL=0013\n",
      "  DTED_VerticalDatum=E96\n",
      "Image Structure Metadata:\n",
      "  INTERLEAVE=BAND\n",
      "Corner Coordinates:\n",
      "Upper Left  (  81.9998611,  29.0001389) ( 81d59'59.50\"E, 29d 0' 0.50\"N)\n",
      "Lower Left  (  81.9998611,  27.9998611) ( 81d59'59.50\"E, 27d59'59.50\"N)\n",
      "Upper Right (  83.0001389,  29.0001389) ( 83d 0' 0.50\"E, 29d 0' 0.50\"N)\n",
      "Lower Right (  83.0001389,  27.9998611) ( 83d 0' 0.50\"E, 27d59'59.50\"N)\n",
      "Center      (  82.5000000,  28.5000000) ( 82d30' 0.00\"E, 28d30' 0.00\"N)\n",
      "Band 1 Block=3601x1 Type=Int16, ColorInterp=Gray\n",
      "  Min=178.000 Max=5789.000 \n",
      "  Minimum=178.000, Maximum=5789.000, Mean=1947.916, StdDev=1009.698\n",
      "  NoData Value=-32767\n",
      "  Overviews: 1801x1801, 901x901, 451x451, 226x226\n",
      "  Unit Type: m\n",
      "  Metadata:\n",
      "    STATISTICS_MAXIMUM=5789\n",
      "    STATISTICS_MEAN=1947.9155001146\n",
      "    STATISTICS_MINIMUM=178\n",
      "    STATISTICS_STDDEV=1009.6982631214\n",
      "    STATISTICS_VALID_PERCENT=100\n"
     ]
    }
   ],
   "source": [
    "!gdalinfo -stats aresh.tif"
   ]
  },
  {
   "cell_type": "code",
   "execution_count": 35,
   "metadata": {},
   "outputs": [
    {
     "name": "stdout",
     "output_type": "stream",
     "text": [
      "Raster Band Array: \n",
      " [[2952 2973 2994 ... 5032 5046 5061]\n",
      " [2948 2962 2977 ... 5029 5042 5065]\n",
      " [2943 2951 2959 ... 5036 5048 5068]\n",
      " ...\n",
      " [ 212  216  219 ... 1179 1171 1160]\n",
      " [ 213  219  226 ... 1186 1177 1164]\n",
      " [ 218  226  233 ... 1190 1184 1170]]\n"
     ]
    }
   ],
   "source": [
    "array = raster_band.ReadAsArray()\n",
    "print(\"Raster Band Array: \\n\", array)"
   ]
  },
  {
   "cell_type": "markdown",
   "metadata": {},
   "source": [
    "##### Applying Analysis"
   ]
  },
  {
   "cell_type": "code",
   "execution_count": 36,
   "metadata": {},
   "outputs": [
    {
     "name": "stdout",
     "output_type": "stream",
     "text": [
      "Binary Mask: \n",
      " [[1 1 1 ... 1 1 1]\n",
      " [1 1 1 ... 1 1 1]\n",
      " [1 1 1 ... 1 1 1]\n",
      " ...\n",
      " [0 0 0 ... 0 0 0]\n",
      " [0 0 0 ... 0 0 0]\n",
      " [0 0 0 ... 0 0 0]]\n"
     ]
    }
   ],
   "source": [
    "binary_mask = np.where((array >= np.mean(array)), 1, 0)\n",
    "print(\"Binary Mask: \\n\", binary_mask)"
   ]
  },
  {
   "cell_type": "markdown",
   "metadata": {},
   "source": [
    "##### Plotting Analysed Image"
   ]
  },
  {
   "cell_type": "code",
   "execution_count": 37,
   "metadata": {},
   "outputs": [
    {
     "data": {
      "text/plain": [
       "<matplotlib.image.AxesImage at 0x19eb800b220>"
      ]
     },
     "execution_count": 37,
     "metadata": {},
     "output_type": "execute_result"
    },
    {
     "data": {
      "image/png": "[encoded data removed]",
      "text/plain": [
       "<Figure size 432x288 with 1 Axes>"
      ]
     },
     "metadata": {
      "needs_background": "light"
     },
     "output_type": "display_data"
    }
   ],
   "source": [
    "plt.Figure()\n",
    "plt.imshow(binary_mask)"
   ]
  },
  {
   "cell_type": "code",
   "execution_count": null,
   "metadata": {},
   "outputs": [],
   "source": []
  }
 ],
 "metadata": {
  "kernelspec": {
   "display_name": "Python 3.8.12 ('gdalEnv': conda)",
   "language": "python",
   "name": "python3"
  },
  "language_info": {
   "codemirror_mode": {
    "name": "ipython",
    "version": 3
   },
   "file_extension": ".py",
   "mimetype": "text/x-python",
   "name": "python",
   "nbconvert_exporter": "python",
   "pygments_lexer": "ipython3",
   "version": "3.8.12"
  },
  "orig_nbformat": 4,
  "vscode": {
   "interpreter": {
    "hash": "dee93e7b651c7b6089f131f9383469b160a903e246330a828c771c28a1f6ae89"
   }
  }
 },
 "nbformat": 4,
 "nbformat_minor": 2
}
