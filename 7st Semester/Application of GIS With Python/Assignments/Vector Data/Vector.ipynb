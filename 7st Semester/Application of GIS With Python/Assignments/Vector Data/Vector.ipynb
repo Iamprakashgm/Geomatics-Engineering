{
 "cells": [
  {
   "cell_type": "markdown",
   "metadata": {},
   "source": [
    "#### Importing All Libraries"
   ]
  },
  {
   "cell_type": "code",
   "execution_count": 1,
   "metadata": {},
   "outputs": [],
   "source": [
    "from osgeo import ogr\n",
    "import os\n",
    "import sys"
   ]
  },
  {
   "cell_type": "markdown",
   "metadata": {},
   "source": [
    "#### Changing Current Directory and Reading Shapefile"
   ]
  },
  {
   "cell_type": "code",
   "execution_count": 2,
   "metadata": {},
   "outputs": [
    {
     "name": "stdout",
     "output_type": "stream",
     "text": [
      "Total Layer:\t 1\n"
     ]
    }
   ],
   "source": [
    "path = r'D:\\Sulav\\Python\\Vector Data\\Military Station\\military_station.shp'\n",
    "dataset_source = ogr.Open(path, 0)   # 0 for reading and 1 for editing of shapefile\n",
    "if dataset_source is None:\n",
    "    sys.exit('Could not open the file {}'.format(path))\n",
    "layer_count = dataset_source.GetLayerCount()\n",
    "print(\"Total Layer:\\t\", layer_count)"
   ]
  },
  {
   "cell_type": "markdown",
   "metadata": {},
   "source": [
    "#### Getting Geometry Type and Total Feature Available in Layer 0"
   ]
  },
  {
   "cell_type": "code",
   "execution_count": 3,
   "metadata": {},
   "outputs": [
    {
     "name": "stdout",
     "output_type": "stream",
     "text": [
      "Geometry Type =  1 : means point data.\n",
      "Total Feature:\t 65\n"
     ]
    }
   ],
   "source": [
    "layer = dataset_source.GetLayer(0)\n",
    "geometry_type = layer.GetGeomType()\n",
    "print(\"Geometry Type = \", geometry_type, \": means point data.\")   # 1 for point data\n",
    "feature_count = layer.GetFeatureCount()\n",
    "print(\"Total Feature:\\t\", feature_count)"
   ]
  },
  {
   "cell_type": "markdown",
   "metadata": {},
   "source": [
    "#### Reading and Tabulating Some Records"
   ]
  },
  {
   "cell_type": "code",
   "execution_count": 4,
   "metadata": {},
   "outputs": [
    {
     "name": "stdout",
     "output_type": "stream",
     "text": [
      "Military \t Name \t X-Coordinate \t Y-Coordinate\n",
      "\n",
      "checkpoint \t None \t 85.4817685 \t 27.9409208\n",
      "checkpoint \t None \t 79.9214553 \t 27.8973949\n",
      "barracks \t None \t 80.6243525 \t 29.2740792\n",
      "range \t None \t 88.4665666 \t 26.0194903\n",
      "barracks \t None \t 80.5619392 \t 28.8455453\n",
      "training_area \t Adam point \t 84.0348607 \t 28.1605604\n",
      "training_area \t Grenade firing range \t 84.0358074 \t 28.1600767\n",
      "training_area \t Raj Dal batty \t 84.0320314 \t 28.1599889\n",
      "training_area \t View point \t 84.0337634 \t 28.1627049\n",
      "training_area \t Eng bn, (military area) \t 83.9833658 \t 28.2007381\n",
      "range \t None \t 81.6287385 \t 28.6126611\n"
     ]
    }
   ],
   "source": [
    "i=0\n",
    "print(\"Military\", \"\\t\", \"Name\", \"\\t\", 'X-Coordinate', \"\\t\", 'Y-Coordinate\\n')\n",
    "for feature in layer:\n",
    "    point = feature.geometry()\n",
    "    name = feature.GetField('name')\n",
    "    military = feature.GetField('military')\n",
    "    x_coordinate = point.GetX()\n",
    "    y_coordinate = point.GetY()\n",
    "    print(military, \"\\t\",  name, \"\\t\", x_coordinate, \"\\t\", y_coordinate)\n",
    "    if i >= 10:\n",
    "        break\n",
    "    i = i + 1"
   ]
  },
  {
   "cell_type": "markdown",
   "metadata": {},
   "source": [
    "#### Getting Spatial Reference of Layer"
   ]
  },
  {
   "cell_type": "code",
   "execution_count": 5,
   "metadata": {},
   "outputs": [
    {
     "name": "stdout",
     "output_type": "stream",
     "text": [
      "Spatial Reference:\n",
      " GEOGCS[\"WGS 84\",\n",
      "    DATUM[\"WGS_1984\",\n",
      "        SPHEROID[\"WGS 84\",6378137,298.257223563,\n",
      "            AUTHORITY[\"EPSG\",\"7030\"]],\n",
      "        AUTHORITY[\"EPSG\",\"6326\"]],\n",
      "    PRIMEM[\"Greenwich\",0,\n",
      "        AUTHORITY[\"EPSG\",\"8901\"]],\n",
      "    UNIT[\"degree\",0.0174532925199433,\n",
      "        AUTHORITY[\"EPSG\",\"9122\"]],\n",
      "    AXIS[\"Latitude\",NORTH],\n",
      "    AXIS[\"Longitude\",EAST],\n",
      "    AUTHORITY[\"EPSG\",\"4326\"]]\n"
     ]
    }
   ],
   "source": [
    "spatial_reference = layer.GetSpatialRef()\n",
    "print(\"Spatial Reference:\\n\", spatial_reference)"
   ]
  },
  {
   "cell_type": "markdown",
   "metadata": {},
   "source": [
    "#### Importing ALl Required Libraries For Writing Vector Data"
   ]
  },
  {
   "cell_type": "code",
   "execution_count": 6,
   "metadata": {},
   "outputs": [],
   "source": [
    "from osgeo import ogr\n",
    "import sys"
   ]
  },
  {
   "cell_type": "markdown",
   "metadata": {},
   "source": [
    "#### Opening Shapefile in Writing/Editing Mode"
   ]
  },
  {
   "cell_type": "code",
   "execution_count": 7,
   "metadata": {},
   "outputs": [],
   "source": [
    "file_path = r'D:\\Sulav\\Python\\Vector Data\\Military Station\\military_station.shp'\n",
    "dataset = ogr.Open(file_path, 1)\n",
    "if dataset is None:\n",
    "    sys.exit('Could not open the file {}'.format(file_path))\n",
    "layer1 = dataset.GetLayer(0)"
   ]
  },
  {
   "cell_type": "markdown",
   "metadata": {},
   "source": [
    "#### Creating and Defining New Layer Named \"prakash_new_layer\""
   ]
  },
  {
   "cell_type": "code",
   "execution_count": 8,
   "metadata": {},
   "outputs": [],
   "source": [
    "if dataset.GetLayer('prakash_new_layer'):\n",
    "    dataset.DeleteLayer('prakash_new_layer')\n",
    "output_layer = dataset.CreateLayer('prakash_new_layer', layer1.GetSpatialRef(), ogr.wkbPoint) \n",
    "output_layer.CreateFields(layer1.schema)\n",
    "define_layer = output_layer.GetLayerDefn()\n",
    "blank_feature = ogr.Feature(define_layer)"
   ]
  },
  {
   "cell_type": "markdown",
   "metadata": {},
   "source": [
    "#### Writing to the layer"
   ]
  },
  {
   "cell_type": "code",
   "execution_count": 9,
   "metadata": {},
   "outputs": [],
   "source": [
    "for feature in layer1:\n",
    "    if feature.GetField('name') == 'army camp':\n",
    "        geometry = feature.geometry()\n",
    "        blank_feature.SetGeometry(geometry)\n",
    "        for i in range(feature.GetFieldCount()):\n",
    "            value = feature.GetField(i)\n",
    "            blank_feature.SetField(i, value)\n",
    "        output_layer.CreateFeature(blank_feature)\n",
    "    \n",
    "del dataset"
   ]
  },
  {
   "cell_type": "markdown",
   "metadata": {},
   "source": [
    "#### Reading Other File Formats"
   ]
  },
  {
   "cell_type": "markdown",
   "metadata": {},
   "source": [
    "##### For Reading .GeoJSON File"
   ]
  },
  {
   "cell_type": "code",
   "execution_count": 10,
   "metadata": {},
   "outputs": [],
   "source": [
    "from osgeo import ogr\n",
    "import os\n",
    "import sys"
   ]
  },
  {
   "cell_type": "code",
   "execution_count": 11,
   "metadata": {},
   "outputs": [
    {
     "name": "stdout",
     "output_type": "stream",
     "text": [
      "Total Layer:\t 1\n"
     ]
    }
   ],
   "source": [
    "path = r'D:\\Sulav\\Python\\Vector Data\\Other Data Formats\\military.geojson'\n",
    "dataset_source = ogr.Open(path, 0)   # 0 for reading and 1 for editing of shapefile\n",
    "if dataset_source is None:\n",
    "    sys.exit('Could not open the file {}'.format(path))\n",
    "layer_count = dataset_source.GetLayerCount()\n",
    "print(\"Total Layer:\\t\", layer_count)"
   ]
  },
  {
   "cell_type": "code",
   "execution_count": 12,
   "metadata": {},
   "outputs": [
    {
     "name": "stdout",
     "output_type": "stream",
     "text": [
      "Geometry Type =  0 : means point data.\n",
      "Total Feature:\t 177\n"
     ]
    }
   ],
   "source": [
    "layer = dataset_source.GetLayer(0)\n",
    "geometry_type = layer.GetGeomType()\n",
    "print(\"Geometry Type = \", geometry_type, \": means point data.\")   # 1 for point data\n",
    "feature_count = layer.GetFeatureCount()\n",
    "print(\"Total Feature:\\t\", feature_count)"
   ]
  },
  {
   "cell_type": "code",
   "execution_count": 13,
   "metadata": {},
   "outputs": [
    {
     "name": "stdout",
     "output_type": "stream",
     "text": [
      "Spatial Reference:\n",
      " GEOGCS[\"WGS 84\",\n",
      "    DATUM[\"WGS_1984\",\n",
      "        SPHEROID[\"WGS 84\",6378137,298.257223563,\n",
      "            AUTHORITY[\"EPSG\",\"7030\"]],\n",
      "        AUTHORITY[\"EPSG\",\"6326\"]],\n",
      "    PRIMEM[\"Greenwich\",0,\n",
      "        AUTHORITY[\"EPSG\",\"8901\"]],\n",
      "    UNIT[\"degree\",0.0174532925199433,\n",
      "        AUTHORITY[\"EPSG\",\"9122\"]],\n",
      "    AXIS[\"Latitude\",NORTH],\n",
      "    AXIS[\"Longitude\",EAST],\n",
      "    AUTHORITY[\"EPSG\",\"4326\"]]\n"
     ]
    }
   ],
   "source": [
    "spatial_reference = layer.GetSpatialRef()\n",
    "print(\"Spatial Reference:\\n\", spatial_reference)"
   ]
  },
  {
   "cell_type": "code",
   "execution_count": 64,
   "metadata": {},
   "outputs": [
    {
     "name": "stdout",
     "output_type": "stream",
     "text": [
      "Military \t Name \t X-Coordinate \t Y-Coordinate\n",
      "\n",
      "airfield \t Kanpur Chakeri Airport \t 0.0 \t 0.0\n",
      "airfield \t None \t 0.0 \t 0.0\n",
      "airfield \t Gorakhpur Air Force Station \t 0.0 \t 0.0\n",
      "airfield \t Purnea Airport \t 0.0 \t 0.0\n",
      "barracks \t चाराली आर्मी ब्याराक \t 0.0 \t 0.0\n",
      "airfield \t Lucknow Air Force Station \t 0.0 \t 0.0\n"
     ]
    }
   ],
   "source": [
    "i=0\n",
    "print(\"Military\", \"\\t\", \"Name\", \"\\t\", 'X-Coordinate', \"\\t\", 'Y-Coordinate\\n')\n",
    "for feature in layer:\n",
    "    point = feature.geometry()\n",
    "    name = feature.GetField('name')\n",
    "    military = feature.GetField('military')\n",
    "    x_coordinate = point.GetX()\n",
    "    y_coordinate = point.GetY()\n",
    "    print(military, \"\\t\",  name, \"\\t\", x_coordinate, \"\\t\", y_coordinate)\n",
    "    if i >= 5:\n",
    "        break\n",
    "    i = i + 1"
   ]
  },
  {
   "cell_type": "markdown",
   "metadata": {},
   "source": [
    "#### For Reading .kml File"
   ]
  },
  {
   "cell_type": "code",
   "execution_count": 14,
   "metadata": {},
   "outputs": [],
   "source": [
    "from osgeo import ogr\n",
    "import os\n",
    "import sys"
   ]
  },
  {
   "cell_type": "code",
   "execution_count": 15,
   "metadata": {},
   "outputs": [
    {
     "name": "stdout",
     "output_type": "stream",
     "text": [
      "Total Layer:\t 1\n"
     ]
    }
   ],
   "source": [
    "path = r'D:\\Sulav\\Python\\Vector Data\\Other Data Formats\\military.kml'\n",
    "dataset_source = ogr.Open(path, 0)   # 0 for reading and 1 for editing of shapefile\n",
    "if dataset_source is None:\n",
    "    sys.exit('Could not open the file {}'.format(path))\n",
    "layer_count = dataset_source.GetLayerCount()\n",
    "print(\"Total Layer:\\t\", layer_count)"
   ]
  },
  {
   "cell_type": "code",
   "execution_count": 16,
   "metadata": {},
   "outputs": [
    {
     "name": "stdout",
     "output_type": "stream",
     "text": [
      "Geometry Type =  0 : means point data.\n",
      "Total Feature:\t 177\n"
     ]
    }
   ],
   "source": [
    "layer = dataset_source.GetLayer(0)\n",
    "geometry_type = layer.GetGeomType()\n",
    "print(\"Geometry Type = \", geometry_type, \": means point data.\")   # 1 for point data\n",
    "feature_count = layer.GetFeatureCount()\n",
    "print(\"Total Feature:\\t\", feature_count)"
   ]
  },
  {
   "cell_type": "code",
   "execution_count": 17,
   "metadata": {},
   "outputs": [
    {
     "name": "stdout",
     "output_type": "stream",
     "text": [
      "Spatial Reference:\n",
      " GEOGCS[\"WGS 84\",\n",
      "    DATUM[\"WGS_1984\",\n",
      "        SPHEROID[\"WGS 84\",6378137,298.257223563,\n",
      "            AUTHORITY[\"EPSG\",\"7030\"]],\n",
      "        AUTHORITY[\"EPSG\",\"6326\"]],\n",
      "    PRIMEM[\"Greenwich\",0,\n",
      "        AUTHORITY[\"EPSG\",\"8901\"]],\n",
      "    UNIT[\"degree\",0.0174532925199433,\n",
      "        AUTHORITY[\"EPSG\",\"9122\"]],\n",
      "    AXIS[\"Latitude\",NORTH],\n",
      "    AXIS[\"Longitude\",EAST],\n",
      "    AUTHORITY[\"EPSG\",\"4326\"]]\n"
     ]
    }
   ],
   "source": [
    "spatial_reference = layer.GetSpatialRef()\n",
    "print(\"Spatial Reference:\\n\", spatial_reference)"
   ]
  },
  {
   "cell_type": "code",
   "execution_count": 18,
   "metadata": {},
   "outputs": [
    {
     "name": "stdout",
     "output_type": "stream",
     "text": [
      "Military \t Name \t X-Coordinate \t Y-Coordinate\n",
      "\n",
      "airfield \t Kanpur Chakeri Airport \t 0.0 \t 0.0\n",
      "airfield \t None \t 0.0 \t 0.0\n",
      "airfield \t Gorakhpur Air Force Station \t 0.0 \t 0.0\n",
      "airfield \t Purnea Airport \t 0.0 \t 0.0\n",
      "barracks \t चाराली आर्मी ब्याराक \t 0.0 \t 0.0\n",
      "airfield \t Lucknow Air Force Station \t 0.0 \t 0.0\n"
     ]
    }
   ],
   "source": [
    "i=0\n",
    "print(\"Military\", \"\\t\", \"Name\", \"\\t\", 'X-Coordinate', \"\\t\", 'Y-Coordinate\\n')\n",
    "for feature in layer:\n",
    "    point = feature.geometry()\n",
    "    name = feature.GetField('name')\n",
    "    military = feature.GetField('military')\n",
    "    x_coordinate = point.GetX()\n",
    "    y_coordinate = point.GetY()\n",
    "    print(military, \"\\t\",  name, \"\\t\", x_coordinate, \"\\t\", y_coordinate)\n",
    "    if i >= 5:\n",
    "        break\n",
    "    i = i + 1"
   ]
  }
 ],
 "metadata": {
  "kernelspec": {
   "display_name": "Python 3.8.12 ('gdalEnv': conda)",
   "language": "python",
   "name": "python3"
  },
  "language_info": {
   "codemirror_mode": {
    "name": "ipython",
    "version": 3
   },
   "file_extension": ".py",
   "mimetype": "text/x-python",
   "name": "python",
   "nbconvert_exporter": "python",
   "pygments_lexer": "ipython3",
   "version": "3.8.12"
  },
  "orig_nbformat": 4,
  "vscode": {
   "interpreter": {
    "hash": "dee93e7b651c7b6089f131f9383469b160a903e246330a828c771c28a1f6ae89"
   }
  }
 },
 "nbformat": 4,
 "nbformat_minor": 2
}
