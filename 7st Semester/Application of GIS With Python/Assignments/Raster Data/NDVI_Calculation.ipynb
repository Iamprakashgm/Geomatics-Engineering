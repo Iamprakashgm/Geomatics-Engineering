{
 "cells": [
  {
   "cell_type": "markdown",
   "metadata": {},
   "source": [
    "#### Importing All Required Library for NDVI Calculation"
   ]
  },
  {
   "cell_type": "code",
   "execution_count": 10,
   "metadata": {},
   "outputs": [],
   "source": [
    "from osgeo import gdal_array as ga\n",
    "from osgeo import gdal, ogr, os, osr\n",
    "import numpy as np"
   ]
  },
  {
   "cell_type": "markdown",
   "metadata": {},
   "source": [
    "#### Changing Directory"
   ]
  },
  {
   "cell_type": "code",
   "execution_count": 11,
   "metadata": {},
   "outputs": [],
   "source": [
    "os.chdir(r'D:\\Course\\Python Assignments\\Geospatial Analysis using Python\\Raster Data\\True Color Band')"
   ]
  },
  {
   "cell_type": "markdown",
   "metadata": {},
   "source": [
    "#### Required Bands"
   ]
  },
  {
   "cell_type": "code",
   "execution_count": 13,
   "metadata": {},
   "outputs": [],
   "source": [
    "\n",
    "band3 = 'Band 3.TIF'\n",
    "band4 = 'Band 4.TIF'"
   ]
  },
  {
   "cell_type": "markdown",
   "metadata": {},
   "source": [
    "#### Getting Array of Pixel Value of Each Band"
   ]
  },
  {
   "cell_type": "code",
   "execution_count": null,
   "metadata": {},
   "outputs": [],
   "source": [
    "array3 = ga.LoadFile(band3)\n",
    "array4 = ga.LoadFile(band4)\n"
   ]
  },
  {
   "cell_type": "markdown",
   "metadata": {},
   "source": [
    "#### NDVI (Normalized Difference Vegetative Index) Calculation"
   ]
  },
  {
   "cell_type": "code",
   "execution_count": null,
   "metadata": {},
   "outputs": [],
   "source": [
    "ga.numpy.seterr(all = \"ignore\")\n",
    "ndvi = ((array4 - array3) * 1.0) / ((array4 + array3) * 1.0)\n",
    "ndvi1 = ga.numpy.nan_to_num(ndvi)\n",
    "final_ndvi = 'NDVI.tif'\n",
    "out = ga.SaveArray(ndvi1, final_ndvi, format = \"GTiff\", prototype = band4)\n",
    "out = None"
   ]
  }
 ],
 "metadata": {
  "kernelspec": {
   "display_name": "Python 3.8.12 ('gdalEnv': conda)",
   "language": "python",
   "name": "python3"
  },
  "language_info": {
   "codemirror_mode": {
    "name": "ipython",
    "version": 3
   },
   "file_extension": ".py",
   "mimetype": "text/x-python",
   "name": "python",
   "nbconvert_exporter": "python",
   "pygments_lexer": "ipython3",
   "version": "3.8.12"
  },
  "orig_nbformat": 4,
  "vscode": {
   "interpreter": {
    "hash": "dee93e7b651c7b6089f131f9383469b160a903e246330a828c771c28a1f6ae89"
   }
  }
 },
 "nbformat": 4,
 "nbformat_minor": 2
}
