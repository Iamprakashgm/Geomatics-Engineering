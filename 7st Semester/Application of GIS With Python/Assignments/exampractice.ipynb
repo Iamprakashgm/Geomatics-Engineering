{
 "cells": [
  {
   "cell_type": "code",
   "execution_count": 2,
   "metadata": {},
   "outputs": [
    {
     "name": "stdout",
     "output_type": "stream",
     "text": [
      "13\n",
      "30\n"
     ]
    }
   ],
   "source": [
    "def add_numbers(a,b):\n",
    "    return (a+b);\n",
    "\n",
    "def multiply_numbers(a,b):\n",
    "    return (a*b);\n",
    "\n",
    "print(add_numbers(5,8))\n",
    "print(multiply_numbers(5,6))"
   ]
  },
  {
   "cell_type": "markdown",
   "metadata": {},
   "source": [
    "## CHAPTER-1  :  **INTRODUCTION TO PYTHON PROGRAMMING**"
   ]
  },
  {
   "cell_type": "markdown",
   "metadata": {},
   "source": [
    "###### Python is a general purpose, dynamically typed and high level programming language which is used to solve different kinds of real world problem like Web Development, Game Development, IOT Programming, AI, Machine Learning, Database Programming etc.\n",
    "\n",
    "- **Features of Python**\n",
    "    - Easy to Learn\n",
    "    - Dynamically Typed\n",
    "    - Extensible\n",
    "    - Embeded\n",
    "    - Object Oriented\n",
    "    - Interpreted\n",
    "    - High Level Programming\n",
    "    - General Purpose"
   ]
  },
  {
   "cell_type": "code",
   "execution_count": 121,
   "metadata": {},
   "outputs": [
    {
     "name": "stdout",
     "output_type": "stream",
     "text": [
      "\n",
      "    Hey There!!! \n",
      "    Myself, Prakash Gharti Magar.\n",
      "    I hope, this document will meet you fine and healthy.\n",
      "    Best Regards..\n",
      "    \n"
     ]
    }
   ],
   "source": [
    "# Example\n",
    "print('''\n",
    "    Hey There!!! \n",
    "    Myself, Prakash Gharti Magar.\n",
    "    I hope, this document will meet you fine and healthy.\n",
    "    Best Regards..\n",
    "    ''')"
   ]
  },
  {
   "cell_type": "markdown",
   "metadata": {},
   "source": [
    "## CHAPTER-2  :  **PYTHON FUNCTION**"
   ]
  },
  {
   "cell_type": "markdown",
   "metadata": {},
   "source": [
    "###### Function is a block of specific code which may either return or not the result. It can be created using ***def*** keyword in Python. Example: ***def calculator(args):***"
   ]
  },
  {
   "cell_type": "code",
   "execution_count": 8,
   "metadata": {},
   "outputs": [
    {
     "data": {
      "text/plain": [
       "2.0"
      ]
     },
     "execution_count": 8,
     "metadata": {},
     "output_type": "execute_result"
    }
   ],
   "source": [
    "def square_root(a):\n",
    "    x = 0\n",
    "    y = a\n",
    "    while True:\n",
    "        x = y\n",
    "        y = (x + a / x) / 2\n",
    "        if x == y:\n",
    "            break\n",
    "        x = y\n",
    "    return x\n",
    "square_root(4)"
   ]
  },
  {
   "cell_type": "code",
   "execution_count": 9,
   "metadata": {},
   "outputs": [
    {
     "name": "stdout",
     "output_type": "stream",
     "text": [
      "2.0\n"
     ]
    }
   ],
   "source": [
    "import math\n",
    "print(math.sqrt(4))"
   ]
  },
  {
   "cell_type": "markdown",
   "metadata": {},
   "source": [
    "## CHAPTER-3  :  **CONTROL STATEMENTS AND REPETITION**"
   ]
  },
  {
   "cell_type": "markdown",
   "metadata": {},
   "source": [
    "###### Control statements are those statements in Python which plays main role in programming and used to control the error as well as many other conditions. Example: ***if, if-else, for, while, do-while etc.***. Repetition is the recursion of same code to give the recursive value of any problem related to recursive type."
   ]
  },
  {
   "cell_type": "markdown",
   "metadata": {},
   "source": [
    "## CHAPTER-4  :  **STRINGS**"
   ]
  },
  {
   "cell_type": "markdown",
   "metadata": {},
   "source": [
    "###### String is a data type which is used to store anything using quotation mark. Strings can be denoted using either ***Single quotation ' ' or Double quotation \" \" or Triple quotation ''' ''', \"\"\" \"\"\"*** in Python"
   ]
  },
  {
   "cell_type": "code",
   "execution_count": 7,
   "metadata": {},
   "outputs": [
    {
     "name": "stdout",
     "output_type": "stream",
     "text": [
      "G\n",
      "Ge\n",
      "Geo\n",
      "Geoi\n",
      "Geoin\n",
      "Geoinf\n",
      "Geoinfo\n",
      "Geoinfor\n",
      "Geoinform\n",
      "Geoinforma\n",
      "Geoinformat\n",
      "Geoinformati\n",
      "Geoinformatic\n",
      "Geoinformatics\n",
      "G\n",
      "Ge\n",
      "Geo\n",
      "Geoi\n",
      "Geoin\n",
      "Geoinf\n",
      "Geoinfo\n",
      "Geoinfor\n",
      "Geoinform\n",
      "Geoinforma\n",
      "Geoinformat\n",
      "Geoinformati\n",
      "Geoinformatic\n",
      "Geoinformatics\n"
     ]
    }
   ],
   "source": [
    "word = 'Geoinformatics'\n",
    "character = ''\n",
    "index = 0\n",
    "while index < len(word):\n",
    "    character += word[index]\n",
    "    print(character)\n",
    "    index += 1\n",
    "\n",
    "\n",
    "char = ''\n",
    "for chr in word:\n",
    "    char += chr\n",
    "    print(char)"
   ]
  },
  {
   "cell_type": "code",
   "execution_count": 12,
   "metadata": {},
   "outputs": [
    {
     "name": "stdout",
     "output_type": "stream",
     "text": [
      "PrakHellOash Gharti Magar\n"
     ]
    }
   ],
   "source": [
    "# Strings are immutable means, character or any word cannot be inserted in any index using [] operator\n",
    "name = 'Prakash Gharti Magar'\n",
    "# name[3] = 'H'    # 'str' object does not support item assignment\n",
    "# But slicing can help to add character or word\n",
    "final_word = name[:4] + 'HellO' + name[4:]\n",
    "print(final_word)"
   ]
  },
  {
   "cell_type": "markdown",
   "metadata": {},
   "source": [
    "## CHAPTER-5  :  **LISTS**"
   ]
  },
  {
   "cell_type": "markdown",
   "metadata": {},
   "source": [
    "###### List is a data structure which is also called collection of items in which we can store anything like string, boolean, float, integer etc.\n",
    "- Items of list are indexed and first item has index 0.\n",
    "- Items may be duplicate.\n",
    "- Items can be changed means ***Mutable***"
   ]
  },
  {
   "cell_type": "code",
   "execution_count": 24,
   "metadata": {},
   "outputs": [
    {
     "name": "stdout",
     "output_type": "stream",
     "text": [
      "<class 'list'> <class 'list'>\n",
      "2\n",
      "4\n",
      "2\n",
      "['Happy Birthday', 'Bibek Sharma']\n",
      "[[23, 'Happy Birthday', 'Bibek Sharma', True, 'Bibek Sharma']]\n",
      "[[23, 'Happy Birthday', 'Bibek Sharma', True, 'Bibek Sharma'], 2, 4, 6]\n",
      "['Gharti', 'Praksh']\n",
      "['Praksh']\n",
      "[23, 'Happy Birthday', 'Bibek Sharma', True, 'Bibek Sharma']\n",
      "[2, 4, 6]\n",
      "['Banana']\n",
      "None\n",
      "None\n"
     ]
    }
   ],
   "source": [
    "\n",
    "''' \n",
    "- Supports duplicate values\n",
    "- Mutable in nature->can be updated and deleted\n",
    "'''\n",
    "# Creating Empty List\n",
    "list1 = [] \n",
    "list2 = list()\n",
    "print(type(list1), type(list2))\n",
    "\n",
    "list_with_item = [23, 'Happy Birthday', 'Bibek Sharma', True, 'Bibek Sharma']\n",
    "list_with_item1 = list((2,4,6)) # accepts only on argument\n",
    "\n",
    "#Indexing gives the index of item\n",
    "print(list_with_item.index('Bibek Sharma'))\n",
    "print(list_with_item.index('Bibek Sharma',3))\n",
    "\n",
    "#Count counts the repeatation of items in list\n",
    "print(list_with_item.count('Bibek Sharma'))\n",
    "\n",
    "# Slicing slices the list\n",
    "slicedlist = list_with_item[1:3]\n",
    "print(slicedlist)\n",
    "\n",
    "# append(only one argument) appends items in list\n",
    "list1.append(list_with_item)\n",
    "print(list1)\n",
    "# extend() adds the items inside the list at last\n",
    "list1.extend(list_with_item1)\n",
    "print(list1)\n",
    "\n",
    "# insert(takes index and value) adds item in specified index\n",
    "list2.insert(0, 'Praksh')\n",
    "list2.insert(0,'Gharti')\n",
    "print(list2)\n",
    "\n",
    "# pop(takes index) and removes from the list \n",
    "list2.pop(0)\n",
    "print(list2)\n",
    "\n",
    "# copy() copies the list\n",
    "newlist = list_with_item.copy()\n",
    "newlist1 = list_with_item1[:]\n",
    "print(newlist)\n",
    "print(newlist1)\n",
    "\n",
    "new_fruits_list = ['Mango', 'Orange', 'Apple', 'Banana']\n",
    "# list comprehension\n",
    "compre_list = [word for word in new_fruits_list if word.startswith('B')]\n",
    "print(compre_list)\n",
    "\n",
    "# For sort(), reverse() ;list should be in same types of items\n",
    "\n",
    "sortedlist = new_fruits_list.sort()\n",
    "print(sortedlist)\n",
    "reversedlist = new_fruits_list.reverse()\n",
    "print(reversedlist)\n"
   ]
  },
  {
   "cell_type": "code",
   "execution_count": 18,
   "metadata": {},
   "outputs": [
    {
     "name": "stdout",
     "output_type": "stream",
     "text": [
      "[[2, 5, 8], [3, 6, 9], [4, 7, 10]]\n"
     ]
    },
    {
     "data": {
      "text/plain": [
       "[[2, 5, 8], [3, 6, 9], [4, 7, 10]]"
      ]
     },
     "execution_count": 18,
     "metadata": {},
     "output_type": "execute_result"
    }
   ],
   "source": [
    "# Nested List --> Matrix\n",
    "matrix = [\n",
    "    [2, 3, 4],\n",
    "    [5, 6, 7],\n",
    "    [8, 9, 10]\n",
    "]\n",
    "transposedMatrix = []\n",
    "for i in range(3):\n",
    "    transposedMatrix.append([row[i] for row in matrix])\n",
    "print(transposedMatrix)\n",
    "\n",
    "# List comprehension\n",
    "[[row[i] for row in matrix] for i in range(3)]"
   ]
  },
  {
   "cell_type": "code",
   "execution_count": 21,
   "metadata": {},
   "outputs": [
    {
     "data": {
      "text/plain": [
       "[[3, 6, 9, 0], [5, 8, 11, 0], [7, 7, 7, 0]]"
      ]
     },
     "execution_count": 21,
     "metadata": {},
     "output_type": "execute_result"
    }
   ],
   "source": [
    "m1 = [ [1, 2, 3, 0], [4, 5, 6, 0], [7, 8, 9, 0] ]\n",
    "m2 = [ [2, 4, 6, 0], [1, 3, 5, 0], [0, -1, -2, 0] ]\n",
    "\n",
    "# List Comprehension to add matrices\n",
    "[[(m1[i][j] + m2[i][j]) for j in range(4)] for i in range(3)]"
   ]
  },
  {
   "cell_type": "markdown",
   "metadata": {},
   "source": [
    "### LIST METHODS\n",
    "- my_list.append(values) ---> appends the list items\n",
    "- my_list.extend(values) ---> adds the list items at last\n",
    "- my_list.count(value)  ---> counts the repeatition of item\n",
    "- my_list.index(value)  ---> gives the index of specified item\n",
    "- my_list.sort()   ---> sorts the items in ascending order if items in list is of same type\n",
    "- my_list.insert(index, value) ---> inserts the value in specified index\n",
    "- my_list.remove(value) ---> removes the specified value/ if not specified, last item will be removed\n",
    "- my_list.pop(index)  ---> removes the item of specified index/ if not given, last item will be removed\n",
    "- my_list.reverse()  ---> reverses the given list"
   ]
  },
  {
   "cell_type": "markdown",
   "metadata": {},
   "source": [
    "## **SETS**"
   ]
  },
  {
   "cell_type": "code",
   "execution_count": 41,
   "metadata": {},
   "outputs": [
    {
     "name": "stdout",
     "output_type": "stream",
     "text": [
      "{'g', 'a', 'M', 's', 'G', 't', 'h', 'r', 'i', 'P', 'k'}\n",
      "{'g', 'a', 'M', 's', 'G', 't', 'r', 'i', 'P', 'k'}\n",
      "{'P', 'k', 's'}\n",
      "{'a', 'r'}\n"
     ]
    }
   ],
   "source": [
    "set1 = set('Prakash')  # Each Set Takes Unique Value\n",
    "set2 = set('Gharti')\n",
    "set3 = set('Magar')\n",
    "print(set1 | set2 | set3) # or operator\n",
    "print(set1 ^ set2 ^ set3) # except intersection value\n",
    "print(set1 - set2 - set3) # only in set1\n",
    "print(set1 & set2 & set3) # intersection value"
   ]
  },
  {
   "cell_type": "markdown",
   "metadata": {},
   "source": [
    "### SET METHODS"
   ]
  },
  {
   "cell_type": "markdown",
   "metadata": {},
   "source": [
    "## **TUPLES**"
   ]
  },
  {
   "cell_type": "code",
   "execution_count": 50,
   "metadata": {},
   "outputs": [
    {
     "name": "stdout",
     "output_type": "stream",
     "text": [
      "(2, 4, 5, 2, 8)\n"
     ]
    }
   ],
   "source": [
    "a = tuple((2, 4, 5, 2, 8))\n",
    "print(a)"
   ]
  },
  {
   "cell_type": "markdown",
   "metadata": {},
   "source": [
    "### TUPLE METHODS"
   ]
  },
  {
   "cell_type": "markdown",
   "metadata": {},
   "source": [
    "- my_tuple.index(value) ---> gives the index of specified value\n",
    "- my_tuple.count(value) ---> gives the count of repeation of value in given tuple"
   ]
  },
  {
   "cell_type": "markdown",
   "metadata": {},
   "source": [
    "## CHAPTER-6  :  **DICTIONARIES**"
   ]
  },
  {
   "cell_type": "markdown",
   "metadata": {},
   "source": [
    "###### Dictionary is a data structure and a collection of different types of data like integer, float, strings, boolean, set, list, tuples etc in Python."
   ]
  },
  {
   "cell_type": "code",
   "execution_count": 82,
   "metadata": {},
   "outputs": [
    {
     "name": "stdout",
     "output_type": "stream",
     "text": [
      "{'one': 1, 'two': 2, 'three': 3, 'four': 4}\n",
      "{'Name': 'Prakash Gharti Magar', 'Faculty': 'Geomatics', 'Age': 23, 'Address': 'Rolpa'}\n",
      "{'One': 1, 'Two': 2, 'Three': 3}\n",
      "{'Wish': 10, 'Me': 23, 'Luck': 3}\n",
      "{'One': 1, 'Two': 2}\n",
      "dict_values([1, 2, 3, 4])\n",
      "{'name': None, 'faculty': None, 'department': None}\n",
      "{'name': 'Campus', 'faculty': 'Campus', 'department': 'Campus'}\n"
     ]
    }
   ],
   "source": [
    "# Creation of Dictionaries\n",
    "\n",
    "# Using dict() constructor\n",
    "from ast import Compare\n",
    "from filecmp import cmp\n",
    "from symbol import comparison\n",
    "\n",
    "\n",
    "dict1 = dict(one = 1, two = 2, three = 3, four = 4)\n",
    "\n",
    "# Manually\n",
    "dict2 = {\n",
    "    'Name' : 'Prakash Gharti Magar',\n",
    "    'Faculty' : 'Geomatics',\n",
    "    'Age' : 23,\n",
    "    'Address' : 'Rolpa'\n",
    "    }\n",
    "\n",
    "# Using zip() function\n",
    "dict3 = dict(zip(['One', 'Two', 'Three'], [1, 2, 3]))\n",
    "\n",
    "# Using tuples\n",
    "dict4 = dict([('Wish', 10), ('Me', 23), ('Luck', 3)])\n",
    "print(dict1)\n",
    "print(dict2)\n",
    "print(dict3)\n",
    "print(dict4)\n",
    "'Name' not in dict4\n",
    "dict3['Three']\n",
    "del dict3['Three']\n",
    "print(dict3)\n",
    "print(dict1.values())\n",
    "# dict1.clear() removes all items of dictionary\n",
    "# dict1.copy() copies all items of dictionary/ shallow copy\n",
    "keys = ['name', 'faculty', 'department']\n",
    "new_dict = dict.fromkeys(keys) # empty\n",
    "print(new_dict)\n",
    "new_dict = dict.fromkeys(keys, 'Campus') # same value\n",
    "print(new_dict)\n"
   ]
  },
  {
   "cell_type": "markdown",
   "metadata": {},
   "source": [
    "### DICTIONARY METHODS"
   ]
  },
  {
   "cell_type": "markdown",
   "metadata": {},
   "source": [
    "- my_dict.keys() ----> gives the all keys\n",
    "- my_dict.values() --> gives the all values\n",
    "- my_dict.update(new_dict) ---> adds the new dict inside my_dict\n",
    "- my_dict.items() ---> returns a list of key value pair\n",
    "- my_dict.get(key) ---> gives the value of specified key\n",
    "- my_dict.fromkeys(sequence, value) ---> creates dictionary with sequence as key and value\n",
    "- copied_dict = my_dict.copy() ---> copies all items\n",
    "- my_dict.clear() ---> removes all item of dictionary"
   ]
  },
  {
   "cell_type": "markdown",
   "metadata": {},
   "source": [
    "## CHAPTER-7  :  **FILES**"
   ]
  },
  {
   "cell_type": "markdown",
   "metadata": {},
   "source": [
    "###### Files are those which are used to store something like text file, python file, images etc."
   ]
  },
  {
   "cell_type": "code",
   "execution_count": 88,
   "metadata": {},
   "outputs": [
    {
     "name": "stdout",
     "output_type": "stream",
     "text": [
      "d:\\Course\\Python Assignments\n"
     ]
    },
    {
     "data": {
      "text/plain": [
       "['Chapter10Practice.ipynb',\n",
       " 'Chapter9Practice.ipynb',\n",
       " 'Exam',\n",
       " 'exampractice.ipynb',\n",
       " 'export.json',\n",
       " 'export.png',\n",
       " 'FinalRasterStatistics.ipynb',\n",
       " 'GDAL in Python',\n",
       " 'Geospatial Analysis using Python',\n",
       " 'Layer Stacking and Mosaicing.ipynb',\n",
       " 'Learning-Geospatial-Analysis-with-Python-Third-Edition-master',\n",
       " 'osgeopy-code',\n",
       " 'osgeopy-code-master',\n",
       " 'query.txt',\n",
       " 'Read and Compute Statistics of Raster Data.ipynb',\n",
       " 'test.py']"
      ]
     },
     "execution_count": 88,
     "metadata": {},
     "output_type": "execute_result"
    }
   ],
   "source": [
    "import os\n",
    "print(os.getcwd())\n",
    "os.path.isdir(os.getcwd())\n",
    "os.path.isfile('exampractice.ipynb')\n",
    "os.listdir()"
   ]
  },
  {
   "cell_type": "code",
   "execution_count": 95,
   "metadata": {},
   "outputs": [
    {
     "name": "stdout",
     "output_type": "stream",
     "text": [
      "Hey There!!! It's me Prakash\n"
     ]
    }
   ],
   "source": [
    "file = open('file.txt', 'w')\n",
    "file.write(\"Hey There!!! It's me Prakash\")\n",
    "\n",
    "file.close()\n",
    "file = open('file.txt', 'r')\n",
    "print(file.read())\n",
    "file.close()\n"
   ]
  },
  {
   "cell_type": "code",
   "execution_count": 96,
   "metadata": {},
   "outputs": [
    {
     "data": {
      "text/plain": [
       "True"
      ]
     },
     "execution_count": 96,
     "metadata": {},
     "output_type": "execute_result"
    }
   ],
   "source": [
    "file.closed"
   ]
  },
  {
   "cell_type": "code",
   "execution_count": 106,
   "metadata": {},
   "outputs": [
    {
     "name": "stdout",
     "output_type": "stream",
     "text": [
      "Hey There!!! It's me Prakash Geomatics Engineering Student \n"
     ]
    },
    {
     "data": {
      "text/plain": [
       "'copiedfile.txt'"
      ]
     },
     "execution_count": 106,
     "metadata": {},
     "output_type": "execute_result"
    }
   ],
   "source": [
    "# with open('file.txt', 'a') as file:\n",
    "#     file.write(' Geomatics Engineering Student')\n",
    "\n",
    "with open('file.txt', 'r') as file:\n",
    "    print(file.read())\n"
   ]
  },
  {
   "cell_type": "code",
   "execution_count": 107,
   "metadata": {},
   "outputs": [
    {
     "data": {
      "text/plain": [
       "'copiedfile.txt'"
      ]
     },
     "execution_count": 107,
     "metadata": {},
     "output_type": "execute_result"
    }
   ],
   "source": [
    "import shutil\n",
    "shutil.copy2('file.txt', 'copiedfile.txt') ## Copies the file into copiedfile.txt\n",
    "# shutil.copy()\n",
    "# shutil.copyfile()"
   ]
  },
  {
   "cell_type": "markdown",
   "metadata": {},
   "source": [
    "## CHAPTER-8  :  **CLASS AND OBJECTS**"
   ]
  },
  {
   "cell_type": "markdown",
   "metadata": {},
   "source": [
    "###### Class is a blueprint of real world object which helps to manage different kinds of objects. Object is a real world object which has different properties and behaviors or functions.\n",
    "\n",
    "- Class is a blueprint of objects having almost same properties and behaviours. So, to represent the real world objects separately, Python class is taken into account.\n",
    "\n",
    "- Shallow Copy:\n",
    "    - If one object1 is embeded inside another object2 then third object3 copies the values of object2 and shares the same value of object1 using copy() function of copy module is called ***Shallow Copy***.\n",
    "- Deep Copy:\n",
    "    - If one object1 is embeded inside another object2 then third object3 copies all the values and metadata(info) using deepcopy() function of copy module is called ***Deep Copy***."
   ]
  },
  {
   "cell_type": "code",
   "execution_count": 113,
   "metadata": {},
   "outputs": [
    {
     "name": "stdout",
     "output_type": "stream",
     "text": [
      "<class '__main__.MyClass'>\n",
      "12345\n",
      "Hello World\n"
     ]
    }
   ],
   "source": [
    "# Simple Python Class and Object Example\n",
    "class MyClass:\n",
    "    i = 12345\n",
    "    def function(self):\n",
    "        return 'Hello World'\n",
    "\n",
    "obj = MyClass()  # Object/Instance of MyClass\n",
    "print(MyClass)\n",
    "print(obj.i)\n",
    "print(obj.function())"
   ]
  },
  {
   "cell_type": "code",
   "execution_count": 115,
   "metadata": {},
   "outputs": [
    {
     "name": "stdout",
     "output_type": "stream",
     "text": [
      "Hello Prakash\n"
     ]
    }
   ],
   "source": [
    "class MyClass:\n",
    "    def function(self, name):\n",
    "        return 'Hello ' + name\n",
    "\n",
    "prakash = MyClass()\n",
    "print(prakash.function('Prakash'))"
   ]
  },
  {
   "cell_type": "code",
   "execution_count": 118,
   "metadata": {},
   "outputs": [
    {
     "name": "stdout",
     "output_type": "stream",
     "text": [
      "(5+10j)\n"
     ]
    }
   ],
   "source": [
    "class Complex:\n",
    "    def __init__(self, real, imag):  # Constructor\n",
    "        self.real = real\n",
    "        self.imag = imag\n",
    "\n",
    "myobj = Complex(5, 10j)  # Constructor invokes at first and takes required argument for class\n",
    "print(myobj.real + myobj.imag)"
   ]
  },
  {
   "cell_type": "code",
   "execution_count": 120,
   "metadata": {},
   "outputs": [
    {
     "data": {
      "text/plain": [
       "200000000"
      ]
     },
     "execution_count": 120,
     "metadata": {},
     "output_type": "execute_result"
    }
   ],
   "source": [
    "from select import select\n",
    "\n",
    "\n",
    "class Company:\n",
    "    def __init__(self, name, symbol, stock_price):\n",
    "        self.name = name\n",
    "        self.symbol = symbol\n",
    "        self.stock_price = stock_price\n",
    "    def valueOf(self, shares):\n",
    "        return shares*self.stock_price\n",
    "\n",
    "comp_obj = Company('Tesla', 'T', 50000)\n",
    "comp_obj.valueOf(4000)"
   ]
  },
  {
   "cell_type": "code",
   "execution_count": 134,
   "metadata": {},
   "outputs": [
    {
     "name": "stdout",
     "output_type": "stream",
     "text": [
      "False\n",
      "Box : 300 400 <__main__.Point object at 0x000001DC72909D90>\n",
      "Box2 : 400 400 <__main__.Point object at 0x000001DC72909D90>\n",
      "Box3 : 300 400 <__main__.Point object at 0x000001DC729093A0>\n"
     ]
    }
   ],
   "source": [
    "# Shallow Copy\n",
    "import copy\n",
    "\n",
    "class Point:\n",
    "    pass\n",
    "\n",
    "class Rectangle:\n",
    "    pass\n",
    "\n",
    "box = Rectangle()\n",
    "box.width = 300\n",
    "box.height = 400\n",
    "box.corner = Point()\n",
    "box.corner.x = 2\n",
    "box.corner.y = 5\n",
    "\n",
    "box2 = copy.copy(box)\n",
    "print(box is box2)\n",
    "box2.width = 400\n",
    "print('Box :', box.width, box.height, box.corner)\n",
    "print('Box2 :', box2.width, box2.height, box2.corner)\n",
    "\n",
    "\n",
    "# Deep Copy \n",
    "box3 = copy.deepcopy(box)\n",
    "print('Box3 :', box3.width, box3.height, box3.corner)\n",
    "\n"
   ]
  },
  {
   "cell_type": "code",
   "execution_count": 12,
   "metadata": {},
   "outputs": [
    {
     "name": "stdout",
     "output_type": "stream",
     "text": [
      "GDAL's Version is: 3.5.1\n",
      "<module 'osgeo.gdal' from 'd:\\\\Prakash\\\\Required\\\\Anaconda\\\\envs\\\\gdalEnv\\\\lib\\\\site-packages\\\\osgeo\\\\gdal.py'>\n"
     ]
    }
   ],
   "source": [
    "from osgeo import gdal\n",
    "print(\"GDAL's Version is:\", gdal.__version__)\n",
    "print(gdal)"
   ]
  },
  {
   "cell_type": "code",
   "execution_count": 56,
   "metadata": {},
   "outputs": [
    {
     "name": "stdout",
     "output_type": "stream",
     "text": [
      "<osgeo.gdal.Dataset; proxy of <Swig Object of type 'GDALDatasetShadow *' at 0x00000143874EED80> >\n",
      "3601 3601\n",
      "Driver: GTiff/GeoTIFF\n",
      "Files: D:\\Course\\Python Assignments\\Geospatial Analysis using Python\\aresh.tif\n",
      "       D:\\Course\\Python Assignments\\Geospatial Analysis using Python\\aresh.tif.ovr\n",
      "       D:\\Course\\Python Assignments\\Geospatial Analysis using Python\\aresh.tif.aux.xml\n",
      "Size is 3601, 3601\n",
      "Coordinate System is:\n",
      "GEOGCRS[\"WGS 84\",\n",
      "    DATUM[\"World Geodetic System 1984\",\n",
      "        ELLIPSOID[\"WGS 84\",6378137,298.257223563,\n",
      "            LENGTHUNIT[\"metre\",1]]],\n",
      "    PRIMEM[\"Greenwich\",0,\n",
      "        ANGLEUNIT[\"degree\",0.0174532925199433]],\n",
      "    CS[ellipsoidal,2],\n",
      "        AXIS[\"geodetic latitude (Lat)\",north,\n",
      "            ORDER[1],\n",
      "            ANGLEUNIT[\"degree\",0.0174532925199433]],\n",
      "        AXIS[\"geodetic longitude (Lon)\",east,\n",
      "            ORDER[2],\n",
      "            ANGLEUNIT[\"degree\",0.0174532925199433]],\n",
      "    ID[\"EPSG\",4326]]\n",
      "Data axis to CRS axis mapping: 2,1\n",
      "Origin = (81.999861111111116,29.000138888888891)\n",
      "Pixel Size = (0.000277777777778,-0.000277777777778)\n",
      "Metadata:\n",
      "  AREA_OR_POINT=Point\n",
      "  DTED_CompilationDate=0002\n",
      "  DTED_DataEdition=02\n",
      "  DTED_DigitizingSystem=SRTM      \n",
      "  DTED_HorizontalAccuracy=0009\n",
      "  DTED_HorizontalDatum=WGS84\n",
      "  DTED_MaintenanceDate=0000\n",
      "  DTED_MaintenanceDescription=0000\n",
      "  DTED_MatchMergeDate=0000\n",
      "  DTED_MatchMergeVersion=A\n",
      "  DTED_NimaDesignator=DTED2\n",
      "  DTED_OriginLatitude=0280000N\n",
      "  DTED_OriginLongitude=0820000E\n",
      "  DTED_Producer=USCNIMA \n",
      "  DTED_RelHorizontalAccuracy=NA  \n",
      "  DTED_RelVerticalAccuracy=0018\n",
      "  DTED_SecurityCode_DSI=U\n",
      "  DTED_SecurityCode_UHL=U  \n",
      "  DTED_UniqueRef_DSI=H09 054        \n",
      "  DTED_UniqueRef_UHL=H09 054     \n",
      "  DTED_VerticalAccuracy_ACC=0013\n",
      "  DTED_VerticalAccuracy_UHL=0013\n",
      "  DTED_VerticalDatum=E96\n",
      "Image Structure Metadata:\n",
      "  INTERLEAVE=BAND\n",
      "Corner Coordinates:\n",
      "Upper Left  (  81.9998611,  29.0001389) ( 81d59'59.50\"E, 29d 0' 0.50\"N)\n",
      "Lower Left  (  81.9998611,  27.9998611) ( 81d59'59.50\"E, 27d59'59.50\"N)\n",
      "Upper Right (  83.0001389,  29.0001389) ( 83d 0' 0.50\"E, 29d 0' 0.50\"N)\n",
      "Lower Right (  83.0001389,  27.9998611) ( 83d 0' 0.50\"E, 27d59'59.50\"N)\n",
      "Center      (  82.5000000,  28.5000000) ( 82d30' 0.00\"E, 28d30' 0.00\"N)\n",
      "Band 1 Block=3601x1 Type=Int16, ColorInterp=Gray\n",
      "  Min=178.000 Max=5789.000 \n",
      "  Minimum=178.000, Maximum=5789.000, Mean=1947.916, StdDev=1009.698\n",
      "  NoData Value=-32767\n",
      "  Overviews: 1801x1801, 901x901, 451x451, 226x226\n",
      "  Unit Type: m\n",
      "  Metadata:\n",
      "    STATISTICS_MAXIMUM=5789\n",
      "    STATISTICS_MEAN=1947.9155001146\n",
      "    STATISTICS_MINIMUM=178\n",
      "    STATISTICS_STDDEV=1009.6982631214\n",
      "    STATISTICS_VALID_PERCENT=100\n",
      "\n"
     ]
    }
   ],
   "source": [
    "dataset = gdal.Open(r\"D:\\Course\\Python Assignments\\Geospatial Analysis using Python\\aresh.tif\",0)\n",
    "print(dataset)\n",
    "description = dataset.GetDescription()\n",
    "cols_x = dataset.RasterXSize\n",
    "rows_y = dataset.RasterYSize\n",
    "\n",
    "print(cols_x, rows_y)\n",
    "upper_left = dataset.GetFileList()\n",
    "print(gdal.Info(r\"D:\\Course\\Python Assignments\\Geospatial Analysis using Python\\aresh.tif\"))\n"
   ]
  },
  {
   "cell_type": "code",
   "execution_count": 61,
   "metadata": {},
   "outputs": [
    {
     "name": "stdout",
     "output_type": "stream",
     "text": [
      "<bound method Dataset.GetRasterBand of <osgeo.gdal.Dataset; proxy of <Swig Object of type 'GDALDatasetShadow *' at 0x00000143874EED80> >>\n"
     ]
    }
   ],
   "source": [
    "band = dataset.GetRasterBand\n",
    "print(band)"
   ]
  },
  {
   "cell_type": "markdown",
   "metadata": {},
   "source": [
    "#### **Exam Questions**"
   ]
  },
  {
   "cell_type": "code",
   "execution_count": 136,
   "metadata": {},
   "outputs": [
    {
     "name": "stdout",
     "output_type": "stream",
     "text": [
      "Twinkle, twinkle, little star, \n",
      "How I wonder what you are! \n",
      "Up above the world so high, \n",
      "Like a diamond in the sky. \n",
      "Twinkle, twinkle, little star, \n",
      "How I wonder what you are!\n"
     ]
    }
   ],
   "source": [
    "\n",
    "print('''Twinkle, twinkle, little star, \\nHow I wonder what you are! \\nUp above the world so high, \\nLike a diamond in the sky. \\nTwinkle, twinkle, little star, \\nHow I wonder what you are!''')\n"
   ]
  },
  {
   "cell_type": "code",
   "execution_count": 165,
   "metadata": {},
   "outputs": [
    {
     "name": "stdout",
     "output_type": "stream",
     "text": [
      "The numbers are different from each other.\n"
     ]
    }
   ],
   "source": [
    "\n",
    "def are_different(lst):\n",
    "    length = len(lst)\n",
    "    for i in range(length):\n",
    "        if lst.count(lst[i])>1:\n",
    "            print('The numbers are not different from each other.')\n",
    "            break\n",
    "        else:\n",
    "            print('The numbers are different from each other.')\n",
    "            break\n",
    "\n",
    "lst = [2, 5, 7, 9, 8]\n",
    "are_different(lst)"
   ]
  },
  {
   "cell_type": "code",
   "execution_count": 147,
   "metadata": {},
   "outputs": [
    {
     "data": {
      "text/plain": [
       "False"
      ]
     },
     "execution_count": 147,
     "metadata": {},
     "output_type": "execute_result"
    }
   ],
   "source": [
    "def allUnique(x):\n",
    "    seen = set()\n",
    "    return not any(i in seen or seen.add(i) for i in x)\n",
    "\n",
    "lst = [2, 5, 7, 9, 2]\n",
    "allUnique(lst)"
   ]
  },
  {
   "cell_type": "code",
   "execution_count": 149,
   "metadata": {},
   "outputs": [
    {
     "name": "stdout",
     "output_type": "stream",
     "text": [
      "The numbers are different from each other.\n"
     ]
    }
   ],
   "source": [
    "def allUnique(x):\n",
    "    seen = set()\n",
    "    if(not any(i in seen or seen.add(i) for i in x)) == True:\n",
    "        print('The numbers are different from each other.')\n",
    "    else:\n",
    "        print('The numbers are not different from each other.')\n",
    "\n",
    "lst = [2, 5, 7, 9, 8]\n",
    "allUnique(lst)"
   ]
  },
  {
   "cell_type": "code",
   "execution_count": 154,
   "metadata": {},
   "outputs": [
    {
     "name": "stdout",
     "output_type": "stream",
     "text": [
      "Not Different\n"
     ]
    }
   ],
   "source": [
    "import numpy as np\n",
    "def allUnique(x):\n",
    "    if(np.unique(x).size == len(x)):\n",
    "        print('Different')\n",
    "    else:\n",
    "        print('Not Different')\n",
    "lst = [2, 5, 7, 9, 2]\n",
    "allUnique(lst)"
   ]
  },
  {
   "cell_type": "code",
   "execution_count": 210,
   "metadata": {},
   "outputs": [
    {
     "name": "stdout",
     "output_type": "stream",
     "text": [
      "\n",
      "Twinkle, twinkle, little star, \n",
      "How I wonder what you are! \n",
      "\n",
      "Word:\t Frequency\n",
      "Twinkle, \t 1\n",
      "twinkle, \t 1\n",
      "little \t 1\n",
      "star, \t 1\n",
      "How \t 1\n",
      "I \t 1\n",
      "wonder \t 1\n",
      "what \t 1\n",
      "you \t 1\n",
      "are! \t 1\n"
     ]
    }
   ],
   "source": [
    "# Count long text words\n",
    "text = '''\n",
    "Twinkle, twinkle, little star, \n",
    "How I wonder what you are! \n",
    "'''\n",
    "print(text)\n",
    "listed = list(text.split())\n",
    "print('Word:\\t Frequency')\n",
    "for i in range(len(listed)):\n",
    "    print(listed[i],\"\\t\", listed.count(listed[i]))\n"
   ]
  },
  {
   "cell_type": "code",
   "execution_count": 173,
   "metadata": {},
   "outputs": [
    {
     "name": "stdout",
     "output_type": "stream",
     "text": [
      "Hey There!!! It's me Prakash Geomatics Engineering Student \n",
      "Character \t Frequency\n",
      "H \t 1\n",
      "e \t 8\n",
      "y \t 1\n",
      "  \t 8\n",
      "T \t 1\n",
      "h \t 2\n",
      "e \t 8\n",
      "r \t 3\n",
      "e \t 8\n",
      "! \t 3\n",
      "! \t 3\n",
      "! \t 3\n",
      "  \t 8\n",
      "I \t 1\n",
      "t \t 4\n",
      "' \t 1\n",
      "s \t 3\n",
      "  \t 8\n",
      "m \t 2\n",
      "e \t 8\n",
      "  \t 8\n",
      "P \t 1\n",
      "r \t 3\n",
      "a \t 3\n",
      "k \t 1\n",
      "a \t 3\n",
      "s \t 3\n",
      "h \t 2\n",
      "  \t 8\n",
      "G \t 1\n",
      "e \t 8\n",
      "o \t 1\n",
      "m \t 2\n",
      "a \t 3\n",
      "t \t 4\n",
      "i \t 3\n",
      "c \t 1\n",
      "s \t 3\n",
      "  \t 8\n",
      "E \t 1\n",
      "n \t 4\n",
      "g \t 2\n",
      "i \t 3\n",
      "n \t 4\n",
      "e \t 8\n",
      "e \t 8\n",
      "r \t 3\n",
      "i \t 3\n",
      "n \t 4\n",
      "g \t 2\n",
      "  \t 8\n",
      "S \t 1\n",
      "t \t 4\n",
      "u \t 1\n",
      "d \t 1\n",
      "e \t 8\n",
      "n \t 4\n",
      "t \t 4\n",
      "  \t 8\n"
     ]
    }
   ],
   "source": [
    "with open('file.txt','r') as file:\n",
    "    # print(file.read())\n",
    "    lists = file.read()\n",
    "    print(lists)\n",
    "    print('Character \\t Frequency')\n",
    "    for i in range(len(lists)):\n",
    "        print(lists[i], '\\t', lists.count(lists[i]))"
   ]
  },
  {
   "cell_type": "code",
   "execution_count": 175,
   "metadata": {},
   "outputs": [
    {
     "name": "stdout",
     "output_type": "stream",
     "text": [
      "15\n"
     ]
    }
   ],
   "source": [
    "# Add without using + operator\n",
    "a = 10\n",
    "b = 5\n",
    "for i in range(b):\n",
    "    a += 1     # without using + operator\n",
    "print(a)\n"
   ]
  },
  {
   "cell_type": "code",
   "execution_count": 177,
   "metadata": {},
   "outputs": [
    {
     "name": "stdout",
     "output_type": "stream",
     "text": [
      "praKASH\n"
     ]
    }
   ],
   "source": [
    "# lower the specified string\n",
    "string = 'PRAKASH'\n",
    "final = string[:3].lower() + string[3:]\n",
    "print(final)"
   ]
  },
  {
   "cell_type": "code",
   "execution_count": 186,
   "metadata": {},
   "outputs": [
    {
     "name": "stdout",
     "output_type": "stream",
     "text": [
      "[2, 1, 23, 52]\n",
      "[2, 1, 23, 52, 2, 1]\n"
     ]
    }
   ],
   "source": [
    "# Append list without using apped() method\n",
    "l1 = [23,52]\n",
    "l2 = [2,1]\n",
    "l1[:0] = l2\n",
    "print(l1)\n",
    "print(l1+l2)  # Without append() method"
   ]
  },
  {
   "cell_type": "code",
   "execution_count": 198,
   "metadata": {},
   "outputs": [
    {
     "name": "stdout",
     "output_type": "stream",
     "text": [
      "aeiou\n",
      "aeiuo\n",
      "aeoiu\n",
      "aeoui\n",
      "aeuio\n",
      "aeuoi\n",
      "aieou\n",
      "aieuo\n",
      "aioeu\n",
      "aioue\n",
      "aiueo\n",
      "aiuoe\n",
      "aoeiu\n",
      "aoeui\n",
      "aoieu\n",
      "aoiue\n",
      "aouei\n",
      "aouie\n",
      "aueio\n",
      "aueoi\n",
      "auieo\n",
      "auioe\n",
      "auoei\n",
      "auoie\n",
      "eaiou\n",
      "eaiuo\n",
      "eaoiu\n",
      "eaoui\n",
      "eauio\n",
      "eauoi\n",
      "eiaou\n",
      "eiauo\n",
      "eioau\n",
      "eioua\n",
      "eiuao\n",
      "eiuoa\n",
      "eoaiu\n",
      "eoaui\n",
      "eoiau\n",
      "eoiua\n",
      "eouai\n",
      "eouia\n",
      "euaio\n",
      "euaoi\n",
      "euiao\n",
      "euioa\n",
      "euoai\n",
      "euoia\n",
      "iaeou\n",
      "iaeuo\n",
      "iaoeu\n",
      "iaoue\n",
      "iaueo\n",
      "iauoe\n",
      "ieaou\n",
      "ieauo\n",
      "ieoau\n",
      "ieoua\n",
      "ieuao\n",
      "ieuoa\n",
      "ioaeu\n",
      "ioaue\n",
      "ioeau\n",
      "ioeua\n",
      "iouae\n",
      "iouea\n",
      "iuaeo\n",
      "iuaoe\n",
      "iueao\n",
      "iueoa\n",
      "iuoae\n",
      "iuoea\n",
      "oaeiu\n",
      "oaeui\n",
      "oaieu\n",
      "oaiue\n",
      "oauei\n",
      "oauie\n",
      "oeaiu\n",
      "oeaui\n",
      "oeiau\n",
      "oeiua\n",
      "oeuai\n",
      "oeuia\n",
      "oiaeu\n",
      "oiaue\n",
      "oieau\n",
      "oieua\n",
      "oiuae\n",
      "oiuea\n",
      "ouaei\n",
      "ouaie\n",
      "oueai\n",
      "oueia\n",
      "ouiae\n",
      "ouiea\n",
      "uaeio\n",
      "uaeoi\n",
      "uaieo\n",
      "uaioe\n",
      "uaoei\n",
      "uaoie\n",
      "ueaio\n",
      "ueaoi\n",
      "ueiao\n",
      "ueioa\n",
      "ueoai\n",
      "ueoia\n",
      "uiaeo\n",
      "uiaoe\n",
      "uieao\n",
      "uieoa\n",
      "uioae\n",
      "uioea\n",
      "uoaei\n",
      "uoaie\n",
      "uoeai\n",
      "uoeia\n",
      "uoiae\n",
      "uoiea\n"
     ]
    }
   ],
   "source": [
    "# Make all possible strings by a, e, i, o, u. character exactily once\n",
    "from itertools import permutations\n",
    "l = list(permutations(['a', 'e', 'i', 'o', 'u']))\n",
    "for i in range(len(l)):\n",
    "    print(''.join(l[i]))\n"
   ]
  },
  {
   "cell_type": "code",
   "execution_count": 213,
   "metadata": {},
   "outputs": [
    {
     "name": "stdout",
     "output_type": "stream",
     "text": [
      "{3: 'apple', 1: 'one', 2: 'two'}\n"
     ]
    }
   ],
   "source": [
    "# Sort dictionary based on values\n",
    "d1 = {1:'one',2:'two',3:'apple'}\n",
    "sortedvalues = sorted(d1.values()) # Ascending\n",
    "# sortedvalues.reverse()  # Decending\n",
    "sorteddict = {}\n",
    "for i in sortedvalues:\n",
    "    for k in d1.keys():\n",
    "        if(d1[k]==i):\n",
    "            sorteddict[k] = i\n",
    "\n",
    "print(sorteddict)"
   ]
  },
  {
   "cell_type": "code",
   "execution_count": 214,
   "metadata": {},
   "outputs": [
    {
     "name": "stdout",
     "output_type": "stream",
     "text": [
      "[1, 4, 9, 16, 25, 36, 49, 64, 81, 100, 121, 144, 169, 196, 225, 256, 289, 324, 361, 400, 441, 484, 529, 576, 625, 676, 729, 784, 841, 900]\n"
     ]
    }
   ],
   "source": [
    "# Write a Python function to create and print a list \n",
    "# where the values are square of numbers between 1 and 30(both included).\n",
    "def createlist():\n",
    "    list = []\n",
    "    for i in range(1, 31):\n",
    "        list.append(i**2)\n",
    "    print(list)\n",
    "createlist()"
   ]
  },
  {
   "cell_type": "code",
   "execution_count": 258,
   "metadata": {},
   "outputs": [
    {
     "name": "stdout",
     "output_type": "stream",
     "text": [
      "3 47796011.643665604 34\n"
     ]
    }
   ],
   "source": [
    "\n",
    "from osgeo import ogr\n",
    "import os, sys\n",
    "drivers = ogr.GetDriverByName('ESRI Shapefile')\n",
    "data_source = drivers.Open(\"D:\\Camping\\GPS\\Wards\\WardsPKR.shp\",0)\n",
    "if data_source is None:\n",
    "    print('Could not open the file')\n",
    "    sys.exit(1)\n",
    "\n",
    "layer = data_source.GetLayer()\n",
    "# print(layer.GetSpatialRef())\n",
    "feature = layer.GetFeature(0)\n",
    "geometry = feature.geometry()\n",
    "print(geometry.GetGeometryType(), geometry.GetArea(),layer.GetFeatureCount())\n",
    "\n",
    "feat = ogr.ODrCCreateDataSource"
   ]
  },
  {
   "cell_type": "code",
   "execution_count": 236,
   "metadata": {},
   "outputs": [
    {
     "name": "stdout",
     "output_type": "stream",
     "text": [
      " \n",
      "* \n",
      "** \n",
      "*** \n",
      "**** \n",
      "***** \n",
      "****\n",
      "***\n",
      "**\n",
      "*\n"
     ]
    }
   ],
   "source": [
    "for i in range(6):\n",
    "    for j in range(i):\n",
    "        print(\"*\", end=\"\")\n",
    "    print(\" \")\n",
    "for i in range(4):\n",
    "    for j in range(4-i):\n",
    "        print(\"*\", end=\"\")\n",
    "    print(\"\")"
   ]
  },
  {
   "cell_type": "code",
   "execution_count": 237,
   "metadata": {},
   "outputs": [
    {
     "name": "stdout",
     "output_type": "stream",
     "text": [
      "PRLSTINE\n",
      "Prlstine\n",
      "prlstine\n"
     ]
    }
   ],
   "source": [
    "word = 'PrlsTiNe'\n",
    "print(word.upper())\n",
    "print(word.title())\n",
    "print(word.lower())"
   ]
  },
  {
   "cell_type": "code",
   "execution_count": 243,
   "metadata": {},
   "outputs": [
    {
     "data": {
      "text/plain": [
       "'cl'"
      ]
     },
     "execution_count": 243,
     "metadata": {},
     "output_type": "execute_result"
    }
   ],
   "source": [
    "a = 'Popsicle'\n",
    "a[:3]\n",
    "a[1:4:1]\n",
    "a[-3:-1]"
   ]
  },
  {
   "cell_type": "code",
   "execution_count": 252,
   "metadata": {},
   "outputs": [
    {
     "name": "stdout",
     "output_type": "stream",
     "text": [
      "{2, 4, 5}\n",
      "(2, 4, 5)\n"
     ]
    }
   ],
   "source": [
    "tuple1 = (2,4,5)\n",
    "set1 = {2,4,5,2}\n",
    "print(set1)\n",
    "print(tuple1)"
   ]
  },
  {
   "cell_type": "code",
   "execution_count": 254,
   "metadata": {},
   "outputs": [
    {
     "data": {
      "text/plain": [
       "{'name': 'Prakash', 1: 'Yes'}"
      ]
     },
     "execution_count": 254,
     "metadata": {},
     "output_type": "execute_result"
    }
   ],
   "source": [
    "dic = dict({'name':'Prakash', 1: 'Yes'})\n",
    "dic"
   ]
  },
  {
   "cell_type": "code",
   "execution_count": 256,
   "metadata": {},
   "outputs": [
    {
     "name": "stdout",
     "output_type": "stream",
     "text": [
      "Supported Formats:\n",
      "  FITS -raster,vector- (rw+): Flexible Image Transport System\n",
      "  PCIDSK -raster,vector- (rw+v): PCIDSK Database File\n",
      "  netCDF -raster,multidimensional raster,vector- (rw+s): Network Common Data Format\n",
      "  PDS4 -raster,vector- (rw+vs): NASA Planetary Data System 4\n",
      "  VICAR -raster,vector- (rw+v): MIPL VICAR file\n",
      "  JP2OpenJPEG -raster,vector- (rwv): JPEG-2000 driver based on OpenJPEG library\n",
      "  PDF -raster,vector- (rw+vs): Geospatial PDF\n",
      "  MBTiles -raster,vector- (rw+v): MBTiles\n",
      "  BAG -raster,multidimensional raster,vector- (rw+v): Bathymetry Attributed Grid\n",
      "  EEDA -vector- (ro): Earth Engine Data API\n",
      "  OGCAPI -raster,vector- (rov): OGCAPI\n",
      "  ESRI Shapefile -vector- (rw+v): ESRI Shapefile\n",
      "  MapInfo File -vector- (rw+v): MapInfo File\n",
      "  UK .NTF -vector- (rov): UK .NTF\n",
      "  LVBAG -vector- (rov): Kadaster LV BAG Extract 2.0\n",
      "  OGR_SDTS -vector- (rov): SDTS\n",
      "  S57 -vector- (rw+v): IHO S-57 (ENC)\n",
      "  DGN -vector- (rw+v): Microstation DGN\n",
      "  OGR_VRT -vector- (rov): VRT - Virtual Datasource\n",
      "  Memory -vector- (rw+): Memory\n",
      "  CSV -vector- (rw+v): Comma Separated Value (.csv)\n",
      "  NAS -vector- (rov): NAS - ALKIS\n",
      "  GML -vector- (rw+v): Geography Markup Language (GML)\n",
      "  GPX -vector- (rw+v): GPX\n",
      "  LIBKML -vector- (rw+v): Keyhole Markup Language (LIBKML)\n",
      "  KML -vector- (rw+v): Keyhole Markup Language (KML)\n",
      "  GeoJSON -vector- (rw+v): GeoJSON\n",
      "  GeoJSONSeq -vector- (rw+v): GeoJSON Sequence\n",
      "  ESRIJSON -vector- (rov): ESRIJSON\n",
      "  TopoJSON -vector- (rov): TopoJSON\n",
      "  OGR_GMT -vector- (rw+v): GMT ASCII Vectors (.gmt)\n",
      "  GPKG -raster,vector- (rw+vs): GeoPackage\n",
      "  SQLite -vector- (rw+v): SQLite / Spatialite\n",
      "  ODBC -vector- (ro): \n",
      "  WAsP -vector- (rw+v): WAsP .map format\n",
      "  PGeo -vector- (ro): ESRI Personal GeoDatabase\n",
      "  MSSQLSpatial -vector- (rw+): Microsoft SQL Server Spatial Database\n",
      "  PostgreSQL -vector- (rw+): PostgreSQL/PostGIS\n",
      "  OpenFileGDB -vector- (rov): ESRI FileGDB\n",
      "  DXF -vector- (rw+v): AutoCAD DXF\n",
      "  CAD -raster,vector- (rovs): AutoCAD Driver\n",
      "  FlatGeobuf -vector- (rw+v): FlatGeobuf\n",
      "  Geoconcept -vector- (rw+v): Geoconcept\n",
      "  GeoRSS -vector- (rw+v): GeoRSS\n",
      "  VFK -vector- (ro): Czech Cadastral Exchange Data Format\n",
      "  PGDUMP -vector- (w+v): PostgreSQL SQL dump\n",
      "  OSM -vector- (rov): OpenStreetMap XML and PBF\n",
      "  GPSBabel -vector- (rw+): GPSBabel\n",
      "  OGR_PDS -vector- (rov): Planetary Data Systems TABLE\n",
      "  WFS -vector- (rov): OGC WFS (Web Feature Service)\n",
      "  OAPIF -vector- (ro): OGC API - Features\n",
      "  EDIGEO -vector- (rov): French EDIGEO exchange format\n",
      "  SVG -vector- (rov): Scalable Vector Graphics\n",
      "  Idrisi -vector- (rov): Idrisi Vector (.vct)\n",
      "  XLS -vector- (ro): MS Excel format\n",
      "  ODS -vector- (rw+v): Open Document/ LibreOffice / OpenOffice Spreadsheet \n",
      "  XLSX -vector- (rw+v): MS Office Open XML spreadsheet\n",
      "  Elasticsearch -vector- (rw+): Elastic Search\n",
      "  Carto -vector- (rw+): Carto\n",
      "  AmigoCloud -vector- (rw+): AmigoCloud\n",
      "  SXF -vector- (rov): Storage and eXchange Format\n",
      "  Selafin -vector- (rw+v): Selafin\n",
      "  JML -vector- (rw+v): OpenJUMP JML\n",
      "  PLSCENES -raster,vector- (ro): Planet Labs Scenes API\n",
      "  CSW -vector- (ro): OGC CSW (Catalog  Service for the Web)\n",
      "  VDV -vector- (rw+v): VDV-451/VDV-452/INTREST Data Format\n",
      "  GMLAS -vector- (rwv): Geography Markup Language (GML) driven by application schemas\n",
      "  MVT -vector- (rw+v): Mapbox Vector Tiles\n",
      "  NGW -raster,vector- (rw+s): NextGIS Web\n",
      "  MapML -vector- (rw+v): MapML\n",
      "  TIGER -vector- (rov): U.S. Census TIGER/Line\n",
      "  AVCBin -vector- (rov): Arc/Info Binary Coverage\n",
      "  AVCE00 -vector- (rov): Arc/Info E00 (ASCII) Coverage\n",
      "  HTTP -raster,vector- (ro): HTTP Fetching Wrapper\n"
     ]
    }
   ],
   "source": [
    "!ogrinfo --formats"
   ]
  },
  {
   "cell_type": "code",
   "execution_count": null,
   "metadata": {},
   "outputs": [],
   "source": []
  }
 ],
 "metadata": {
  "kernelspec": {
   "display_name": "Python 3.8.12 ('gdalEnv')",
   "language": "python",
   "name": "python3"
  },
  "language_info": {
   "codemirror_mode": {
    "name": "ipython",
    "version": 3
   },
   "file_extension": ".py",
   "mimetype": "text/x-python",
   "name": "python",
   "nbconvert_exporter": "python",
   "pygments_lexer": "ipython3",
   "version": "3.8.12"
  },
  "orig_nbformat": 4,
  "vscode": {
   "interpreter": {
    "hash": "dee93e7b651c7b6089f131f9383469b160a903e246330a828c771c28a1f6ae89"
   }
  }
 },
 "nbformat": 4,
 "nbformat_minor": 2
}
